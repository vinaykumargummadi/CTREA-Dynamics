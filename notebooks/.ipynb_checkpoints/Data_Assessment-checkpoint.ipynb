{
 "cells": [
  {
   "cell_type": "code",
   "execution_count": null,
   "metadata": {},
   "outputs": [],
   "source": [
    "#Import libraries \n",
    "import pandas as pd\n",
    "import numpy as np\n",
    "import matplotlib.pyplot as plt\n",
    "import seaborn as sns\n",
    "#!pip install missingno\n",
    "import missingno as msno\n",
    "# Set the option to display all rows\n",
    "pd.set_option('display.max_rows', None)"
   ]
  },
  {
   "cell_type": "code",
   "execution_count": 3,
   "metadata": {},
   "outputs": [
    {
     "name": "stderr",
     "output_type": "stream",
     "text": [
      "C:\\Users\\dhami\\AppData\\Local\\Temp\\ipykernel_23564\\1508374523.py:1: DtypeWarning: Columns (8,9,10,11,12) have mixed types. Specify dtype option on import or set low_memory=False.\n",
      "  df = pd.read_csv(r'C:\\Users\\dhami\\Downloads\\GitHub_Capstone_Project\\CTREA-Dynamics\\data\\Real_Estate_Sales_2001-2020_GL.csv')\n"
     ]
    },
    {
     "data": {
      "text/html": [
       "<div>\n",
       "<style scoped>\n",
       "    .dataframe tbody tr th:only-of-type {\n",
       "        vertical-align: middle;\n",
       "    }\n",
       "\n",
       "    .dataframe tbody tr th {\n",
       "        vertical-align: top;\n",
       "    }\n",
       "\n",
       "    .dataframe thead th {\n",
       "        text-align: right;\n",
       "    }\n",
       "</style>\n",
       "<table border=\"1\" class=\"dataframe\">\n",
       "  <thead>\n",
       "    <tr style=\"text-align: right;\">\n",
       "      <th></th>\n",
       "      <th>Serial Number</th>\n",
       "      <th>List Year</th>\n",
       "      <th>Date Recorded</th>\n",
       "      <th>Town</th>\n",
       "      <th>Address</th>\n",
       "      <th>Assessed Value</th>\n",
       "      <th>Sale Amount</th>\n",
       "      <th>Sales Ratio</th>\n",
       "      <th>Property Type</th>\n",
       "      <th>Residential Type</th>\n",
       "      <th>Non Use Code</th>\n",
       "      <th>Assessor Remarks</th>\n",
       "      <th>OPM remarks</th>\n",
       "      <th>Location</th>\n",
       "    </tr>\n",
       "  </thead>\n",
       "  <tbody>\n",
       "    <tr>\n",
       "      <th>0</th>\n",
       "      <td>2020348</td>\n",
       "      <td>2020</td>\n",
       "      <td>09/13/2021</td>\n",
       "      <td>Ansonia</td>\n",
       "      <td>230 WAKELEE AVE</td>\n",
       "      <td>150500.0</td>\n",
       "      <td>325000.0</td>\n",
       "      <td>0.4630</td>\n",
       "      <td>Commercial</td>\n",
       "      <td>NaN</td>\n",
       "      <td>NaN</td>\n",
       "      <td>NaN</td>\n",
       "      <td>NaN</td>\n",
       "      <td>NaN</td>\n",
       "    </tr>\n",
       "    <tr>\n",
       "      <th>1</th>\n",
       "      <td>20002</td>\n",
       "      <td>2020</td>\n",
       "      <td>10/02/2020</td>\n",
       "      <td>Ashford</td>\n",
       "      <td>390 TURNPIKE RD</td>\n",
       "      <td>253000.0</td>\n",
       "      <td>430000.0</td>\n",
       "      <td>0.5883</td>\n",
       "      <td>Residential</td>\n",
       "      <td>Single Family</td>\n",
       "      <td>NaN</td>\n",
       "      <td>NaN</td>\n",
       "      <td>NaN</td>\n",
       "      <td>NaN</td>\n",
       "    </tr>\n",
       "    <tr>\n",
       "      <th>2</th>\n",
       "      <td>200212</td>\n",
       "      <td>2020</td>\n",
       "      <td>03/09/2021</td>\n",
       "      <td>Avon</td>\n",
       "      <td>5 CHESTNUT DRIVE</td>\n",
       "      <td>130400.0</td>\n",
       "      <td>179900.0</td>\n",
       "      <td>0.7248</td>\n",
       "      <td>Residential</td>\n",
       "      <td>Condo</td>\n",
       "      <td>NaN</td>\n",
       "      <td>NaN</td>\n",
       "      <td>NaN</td>\n",
       "      <td>NaN</td>\n",
       "    </tr>\n",
       "    <tr>\n",
       "      <th>3</th>\n",
       "      <td>200243</td>\n",
       "      <td>2020</td>\n",
       "      <td>04/13/2021</td>\n",
       "      <td>Avon</td>\n",
       "      <td>111 NORTHINGTON DRIVE</td>\n",
       "      <td>619290.0</td>\n",
       "      <td>890000.0</td>\n",
       "      <td>0.6958</td>\n",
       "      <td>Residential</td>\n",
       "      <td>Single Family</td>\n",
       "      <td>NaN</td>\n",
       "      <td>NaN</td>\n",
       "      <td>NaN</td>\n",
       "      <td>NaN</td>\n",
       "    </tr>\n",
       "    <tr>\n",
       "      <th>4</th>\n",
       "      <td>200377</td>\n",
       "      <td>2020</td>\n",
       "      <td>07/02/2021</td>\n",
       "      <td>Avon</td>\n",
       "      <td>70 FAR HILLS DRIVE</td>\n",
       "      <td>862330.0</td>\n",
       "      <td>1447500.0</td>\n",
       "      <td>0.5957</td>\n",
       "      <td>Residential</td>\n",
       "      <td>Single Family</td>\n",
       "      <td>NaN</td>\n",
       "      <td>NaN</td>\n",
       "      <td>NaN</td>\n",
       "      <td>NaN</td>\n",
       "    </tr>\n",
       "  </tbody>\n",
       "</table>\n",
       "</div>"
      ],
      "text/plain": [
       "   Serial Number  List Year Date Recorded     Town                Address  \\\n",
       "0        2020348       2020    09/13/2021  Ansonia        230 WAKELEE AVE   \n",
       "1          20002       2020    10/02/2020  Ashford        390 TURNPIKE RD   \n",
       "2         200212       2020    03/09/2021     Avon       5 CHESTNUT DRIVE   \n",
       "3         200243       2020    04/13/2021     Avon  111 NORTHINGTON DRIVE   \n",
       "4         200377       2020    07/02/2021     Avon     70 FAR HILLS DRIVE   \n",
       "\n",
       "   Assessed Value  Sale Amount  Sales Ratio Property Type Residential Type  \\\n",
       "0        150500.0     325000.0       0.4630    Commercial              NaN   \n",
       "1        253000.0     430000.0       0.5883   Residential    Single Family   \n",
       "2        130400.0     179900.0       0.7248   Residential            Condo   \n",
       "3        619290.0     890000.0       0.6958   Residential    Single Family   \n",
       "4        862330.0    1447500.0       0.5957   Residential    Single Family   \n",
       "\n",
       "  Non Use Code Assessor Remarks OPM remarks Location  \n",
       "0          NaN              NaN         NaN      NaN  \n",
       "1          NaN              NaN         NaN      NaN  \n",
       "2          NaN              NaN         NaN      NaN  \n",
       "3          NaN              NaN         NaN      NaN  \n",
       "4          NaN              NaN         NaN      NaN  "
      ]
     },
     "execution_count": 3,
     "metadata": {},
     "output_type": "execute_result"
    }
   ],
   "source": [
    "df = pd.read_csv(r'C:\\Users\\dhami\\Downloads\\GitHub_Capstone_Project\\CTREA-Dynamics\\data\\Real_Estate_Sales_2001-2020_GL.csv')\n",
    "df.head()"
   ]
  },
  {
   "cell_type": "code",
   "execution_count": 4,
   "metadata": {},
   "outputs": [
    {
     "data": {
      "text/plain": [
       "(997213, 14)"
      ]
     },
     "execution_count": 4,
     "metadata": {},
     "output_type": "execute_result"
    }
   ],
   "source": [
    "df.shape"
   ]
  },
  {
   "cell_type": "code",
   "execution_count": 5,
   "metadata": {},
   "outputs": [
    {
     "name": "stdout",
     "output_type": "stream",
     "text": [
      "<class 'pandas.core.frame.DataFrame'>\n",
      "RangeIndex: 997213 entries, 0 to 997212\n",
      "Data columns (total 14 columns):\n",
      " #   Column            Non-Null Count   Dtype  \n",
      "---  ------            --------------   -----  \n",
      " 0   Serial Number     997213 non-null  int64  \n",
      " 1   List Year         997213 non-null  int64  \n",
      " 2   Date Recorded     997211 non-null  object \n",
      " 3   Town              997213 non-null  object \n",
      " 4   Address           997162 non-null  object \n",
      " 5   Assessed Value    997213 non-null  float64\n",
      " 6   Sale Amount       997213 non-null  float64\n",
      " 7   Sales Ratio       997213 non-null  float64\n",
      " 8   Property Type     614767 non-null  object \n",
      " 9   Residential Type  608904 non-null  object \n",
      " 10  Non Use Code      289681 non-null  object \n",
      " 11  Assessor Remarks  149864 non-null  object \n",
      " 12  OPM remarks       9934 non-null    object \n",
      " 13  Location          197697 non-null  object \n",
      "dtypes: float64(3), int64(2), object(9)\n",
      "memory usage: 106.5+ MB\n"
     ]
    }
   ],
   "source": [
    "df.info()"
   ]
  },
  {
   "cell_type": "markdown",
   "metadata": {},
   "source": [
    "## Features Observation\n",
    "1. Serial Number : Unique values, for identification on entry, not useful.\n",
    "2. List Year : Ranges from 2001-2020\n",
    "3. Date Recorded : sales data or recorded entry date in datetime format\n",
    "                   some have year while majority has dd-mm-yyyy format\n",
    "4. Town : Connectnicut state town names, no blank values \n",
    "5. Address : street no with combination of landmark is visible, locality area name can be extracted for clustering\n",
    "6. Assessed Value : All numeric and minimum values ranges as 0 meaning property for asses in its lifetime\n",
    "7. Sale Amount : All numeric and min value is 0 stating forclosure of property, we can study customer segmentation based on area where forclosure are happening and dependent features related for taking place.\n",
    "8. Sales Ratio : max above 1 also values are as high as 300, interest paymnent is remark, need to understand this outliers are creation of anomaly or improper data!\n",
    "9. Property Type :  Blanks are found\n",
    "10. Residential Type :  Blanks are found, vacant/commenrical property type are major contributor\n",
    "11. Non Use Code : numeric and alphabets also repettive is observed so is data duplicated or code has different meaning will need to find.\n",
    "12. Assessor Remarks : Mixed type comments on each entryies observed with some blanks\n",
    "13. OPM remarks : Very Generic relies and also what is OPM must be understood\n",
    "14. Location : Blanks are majority around 799517 nos, no worries based on address can be pin-pointed in mapping\n",
    "\n",
    "        Data Cleaning shall be initaated feature by feature"
   ]
  },
  {
   "cell_type": "code",
   "execution_count": 6,
   "metadata": {},
   "outputs": [],
   "source": [
    "df.drop('Serial Number', axis=1, inplace=True)"
   ]
  },
  {
   "cell_type": "code",
   "execution_count": 7,
   "metadata": {},
   "outputs": [
    {
     "name": "stdout",
     "output_type": "stream",
     "text": [
      "Missing Values Count are as follows:\n",
      " OPM remarks         987279\n",
      "Assessor Remarks    847349\n",
      "Location            799516\n",
      "Non Use Code        707532\n",
      "Residential Type    388309\n",
      "Property Type       382446\n",
      "Address                 51\n",
      "Date Recorded            2\n",
      "dtype: int64\n"
     ]
    }
   ],
   "source": [
    "#missing value code\n",
    "missing_values = df.isnull().sum().sort_values(ascending=False) \n",
    "missing_values = missing_values[missing_values > 0]\n",
    "print('Missing Values Count are as follows:\\n',missing_values)\n"
   ]
  },
  {
   "cell_type": "code",
   "execution_count": 8,
   "metadata": {},
   "outputs": [
    {
     "data": {
      "image/png": "[encoded data removed]",
      "text/plain": [
       "<Figure size 800x600 with 2 Axes>"
      ]
     },
     "metadata": {},
     "output_type": "display_data"
    }
   ],
   "source": [
    "#missing value visualization\n",
    "msno.matrix(df, figsize=(8, 6), sparkline=True, fontsize=12, labels=True)\n",
    "plt.title('Missing Data Matrix', fontsize=12, rotation = 0)\n",
    "# Rotate x-axis labels\n",
    "plt.xticks(rotation=90, ha='right') \n",
    "plt.show()"
   ]
  },
  {
   "cell_type": "code",
   "execution_count": 9,
   "metadata": {},
   "outputs": [
    {
     "data": {
      "image/png": "[encoded data removed]",
      "text/plain": [
       "<Figure size 1200x800 with 1 Axes>"
      ]
     },
     "metadata": {},
     "output_type": "display_data"
    }
   ],
   "source": [
    "# Select numerical columns (excluding 'object' type)\n",
    "numerical_columns = df.select_dtypes(exclude='object').columns\n",
    "\n",
    "# Boxplot with log scale\n",
    "fig, ax = plt.subplots(figsize=(12, 8))\n",
    "\n",
    "# Using np.log1p to handle potential zero values (log(0+1) = 0)\n",
    "ax.boxplot(np.log1p(df[numerical_columns]), labels=numerical_columns)\n",
    "\n",
    "# Set y-axis to log scale\n",
    "ax.set_yscale('log')\n",
    "\n",
    "# Set labels and title\n",
    "plt.xticks(rotation=45, ha='right')\n",
    "plt.title('Boxplot with Log Scale for Numerical Columns')\n",
    "plt.ylabel('Log Scale')\n",
    "\n",
    "plt.show()"
   ]
  },
  {
   "cell_type": "code",
   "execution_count": 10,
   "metadata": {},
   "outputs": [],
   "source": [
    "def detect_outliers(data):\n",
    "    numeric_data = data.select_dtypes(exclude='object')\n",
    "    columns = list(numeric_data.columns)\n",
    "    outliers_info = []\n",
    "\n",
    "    for column in columns:\n",
    "        # IQR method\n",
    "        q1 = numeric_data[column].quantile(0.25)\n",
    "        q3 = numeric_data[column].quantile(0.75)\n",
    "        iqr = q3 - q1\n",
    "        lower_limit = q1 - 1.5 * iqr\n",
    "        upper_limit = q3 + 1.5 * iqr\n",
    "\n",
    "        # Detect outliers\n",
    "        outliers = (numeric_data[column] < lower_limit) | (numeric_data[column] > upper_limit)\n",
    "\n",
    "        # Count the number of outliers\n",
    "        num_outliers = outliers.sum()\n",
    "        percentage_outliers = round((outliers.sum()/numeric_data.shape[0]) * 100,2)\n",
    "\n",
    "        # Append information to the list\n",
    "        outliers_info.append({\n",
    "            'Column': column,\n",
    "            'Lower Limit': lower_limit,\n",
    "            'Upper Limit': upper_limit,\n",
    "            'Num Outliers': num_outliers,\n",
    "            'Outlier Indices': numeric_data[outliers].index.tolist(),\n",
    "            'Outliers_percentage' : percentage_outliers\n",
    "        })\n",
    "\n",
    "    # Convert the list of dictionaries to a DataFrame\n",
    "    outliers_df = pd.DataFrame(outliers_info)\n",
    "\n",
    "    return outliers_df\n",
    "\n",
    "# Example usage\n",
    "outliers_df = detect_outliers(df)\n"
   ]
  },
  {
   "cell_type": "code",
   "execution_count": 11,
   "metadata": {},
   "outputs": [
    {
     "data": {
      "text/html": [
       "<div>\n",
       "<style scoped>\n",
       "    .dataframe tbody tr th:only-of-type {\n",
       "        vertical-align: middle;\n",
       "    }\n",
       "\n",
       "    .dataframe tbody tr th {\n",
       "        vertical-align: top;\n",
       "    }\n",
       "\n",
       "    .dataframe thead th {\n",
       "        text-align: right;\n",
       "    }\n",
       "</style>\n",
       "<table border=\"1\" class=\"dataframe\">\n",
       "  <thead>\n",
       "    <tr style=\"text-align: right;\">\n",
       "      <th></th>\n",
       "      <th>Column</th>\n",
       "      <th>Lower Limit</th>\n",
       "      <th>Upper Limit</th>\n",
       "      <th>Num Outliers</th>\n",
       "      <th>Outlier Indices</th>\n",
       "      <th>Outliers_percentage</th>\n",
       "    </tr>\n",
       "  </thead>\n",
       "  <tbody>\n",
       "    <tr>\n",
       "      <th>0</th>\n",
       "      <td>List Year</td>\n",
       "      <td>1986.000000</td>\n",
       "      <td>2034.00000</td>\n",
       "      <td>0</td>\n",
       "      <td>[]</td>\n",
       "      <td>0.00</td>\n",
       "    </tr>\n",
       "    <tr>\n",
       "      <th>1</th>\n",
       "      <td>Assessed Value</td>\n",
       "      <td>-119340.000000</td>\n",
       "      <td>432500.00000</td>\n",
       "      <td>90623</td>\n",
       "      <td>[3, 4, 5, 8, 12, 13, 35, 40, 55, 74, 82, 84, 8...</td>\n",
       "      <td>9.09</td>\n",
       "    </tr>\n",
       "    <tr>\n",
       "      <th>2</th>\n",
       "      <td>Sale Amount</td>\n",
       "      <td>-197500.000000</td>\n",
       "      <td>702500.00000</td>\n",
       "      <td>82900</td>\n",
       "      <td>[3, 4, 5, 8, 33, 35, 40, 44, 55, 74, 82, 84, 8...</td>\n",
       "      <td>8.31</td>\n",
       "    </tr>\n",
       "    <tr>\n",
       "      <th>3</th>\n",
       "      <td>Sales Ratio</td>\n",
       "      <td>0.038836</td>\n",
       "      <td>1.23314</td>\n",
       "      <td>100129</td>\n",
       "      <td>[6, 32, 50, 60, 75, 86, 94, 96, 127, 133, 139,...</td>\n",
       "      <td>10.04</td>\n",
       "    </tr>\n",
       "  </tbody>\n",
       "</table>\n",
       "</div>"
      ],
      "text/plain": [
       "           Column    Lower Limit   Upper Limit  Num Outliers  \\\n",
       "0       List Year    1986.000000    2034.00000             0   \n",
       "1  Assessed Value -119340.000000  432500.00000         90623   \n",
       "2     Sale Amount -197500.000000  702500.00000         82900   \n",
       "3     Sales Ratio       0.038836       1.23314        100129   \n",
       "\n",
       "                                     Outlier Indices  Outliers_percentage  \n",
       "0                                                 []                 0.00  \n",
       "1  [3, 4, 5, 8, 12, 13, 35, 40, 55, 74, 82, 84, 8...                 9.09  \n",
       "2  [3, 4, 5, 8, 33, 35, 40, 44, 55, 74, 82, 84, 8...                 8.31  \n",
       "3  [6, 32, 50, 60, 75, 86, 94, 96, 127, 133, 139,...                10.04  "
      ]
     },
     "execution_count": 11,
     "metadata": {},
     "output_type": "execute_result"
    }
   ],
   "source": [
    "outliers_df"
   ]
  },
  {
   "cell_type": "code",
   "execution_count": 12,
   "metadata": {},
   "outputs": [
    {
     "data": {
      "image/png": "[encoded data removed]",
      "text/plain": [
       "<Figure size 640x480 with 4 Axes>"
      ]
     },
     "metadata": {},
     "output_type": "display_data"
    }
   ],
   "source": [
    "#simple code\n",
    "\n",
    "# Create a figure and an array of subplots\n",
    "fig, ax = plt.subplots(nrows=2, ncols=2)  # You can adjust the number of rows and columns as needed\n",
    "\n",
    "# Plot on the first subplot (index 0,0)\n",
    "ax[0, 0].boxplot(df['List Year'])\n",
    "ax[0, 0].set_title('Plot 1')\n",
    "\n",
    "# Plot on the second subplot (index 0,1)\n",
    "ax[0, 1].boxplot(df['Assessed Value'])\n",
    "ax[0, 1].set_title('Plot 2')\n",
    "\n",
    "# Plot on the third subplot (index 1,0)\n",
    "ax[1, 0].boxplot(df['Sale Amount'])\n",
    "ax[1, 0].set_title('Plot 3')\n",
    "\n",
    "# Plot on the fourth subplot (index 1,1)\n",
    "ax[1, 1].boxplot(df['Sales Ratio'])\n",
    "ax[1, 1].set_title('Plot 4')\n",
    "\n",
    "# Adjust layout to prevent overlapping\n",
    "plt.tight_layout()\n",
    "\n",
    "# Show the plots\n",
    "plt.show()\n"
   ]
  },
  {
   "cell_type": "code",
   "execution_count": 13,
   "metadata": {},
   "outputs": [
    {
     "data": {
      "image/png": "[encoded data removed]",
      "text/plain": [
       "<Figure size 1000x800 with 4 Axes>"
      ]
     },
     "metadata": {},
     "output_type": "display_data"
    }
   ],
   "source": [
    "# Get the list of columns to plot\n",
    "columns_to_plot = ['List Year', 'Assessed Value', 'Sale Amount', 'Sales Ratio']\n",
    "\n",
    "# Determine the number of rows and columns for subplots\n",
    "num_rows = 2\n",
    "num_cols = 2\n",
    "\n",
    "# Create a figure and an array of subplots\n",
    "fig, ax = plt.subplots(nrows=num_rows, ncols=num_cols, figsize=(10, 8))  # You can adjust the figure size as needed\n",
    "\n",
    "# Flatten the ax array for easier iteration\n",
    "ax_flat = ax.flatten()\n",
    "\n",
    "# Iterate through columns and plot boxplots\n",
    "for i, column in enumerate(columns_to_plot):\n",
    "    row_index = i // num_cols\n",
    "    col_index = i % num_cols\n",
    "\n",
    "    ax_flat[i].boxplot(df[column])\n",
    "    ax_flat[i].set_title(f'Boxplot for  {i + 1}: {column}')\n",
    "\n",
    "# Adjust layout to prevent overlapping\n",
    "plt.tight_layout()\n",
    "\n",
    "# Show the plots\n",
    "plt.show()\n"
   ]
  },
  {
   "cell_type": "code",
   "execution_count": 14,
   "metadata": {},
   "outputs": [
    {
     "data": {
      "text/html": [
       "<div>\n",
       "<style scoped>\n",
       "    .dataframe tbody tr th:only-of-type {\n",
       "        vertical-align: middle;\n",
       "    }\n",
       "\n",
       "    .dataframe tbody tr th {\n",
       "        vertical-align: top;\n",
       "    }\n",
       "\n",
       "    .dataframe thead th {\n",
       "        text-align: right;\n",
       "    }\n",
       "</style>\n",
       "<table border=\"1\" class=\"dataframe\">\n",
       "  <thead>\n",
       "    <tr style=\"text-align: right;\">\n",
       "      <th></th>\n",
       "      <th>count</th>\n",
       "      <th>unique</th>\n",
       "      <th>top</th>\n",
       "      <th>freq</th>\n",
       "      <th>mean</th>\n",
       "      <th>std</th>\n",
       "      <th>min</th>\n",
       "      <th>25%</th>\n",
       "      <th>50%</th>\n",
       "      <th>75%</th>\n",
       "      <th>max</th>\n",
       "    </tr>\n",
       "  </thead>\n",
       "  <tbody>\n",
       "    <tr>\n",
       "      <th>List Year</th>\n",
       "      <td>997213.0</td>\n",
       "      <td>NaN</td>\n",
       "      <td>NaN</td>\n",
       "      <td>NaN</td>\n",
       "      <td>2010.19</td>\n",
       "      <td>6.24</td>\n",
       "      <td>2001.0</td>\n",
       "      <td>2004.0</td>\n",
       "      <td>2010.0</td>\n",
       "      <td>2016.0</td>\n",
       "      <td>2020.0</td>\n",
       "    </tr>\n",
       "    <tr>\n",
       "      <th>Date Recorded</th>\n",
       "      <td>997211</td>\n",
       "      <td>6387</td>\n",
       "      <td>07/01/2005</td>\n",
       "      <td>877</td>\n",
       "      <td>NaN</td>\n",
       "      <td>NaN</td>\n",
       "      <td>NaN</td>\n",
       "      <td>NaN</td>\n",
       "      <td>NaN</td>\n",
       "      <td>NaN</td>\n",
       "      <td>NaN</td>\n",
       "    </tr>\n",
       "    <tr>\n",
       "      <th>Town</th>\n",
       "      <td>997213</td>\n",
       "      <td>170</td>\n",
       "      <td>Bridgeport</td>\n",
       "      <td>34201</td>\n",
       "      <td>NaN</td>\n",
       "      <td>NaN</td>\n",
       "      <td>NaN</td>\n",
       "      <td>NaN</td>\n",
       "      <td>NaN</td>\n",
       "      <td>NaN</td>\n",
       "      <td>NaN</td>\n",
       "    </tr>\n",
       "    <tr>\n",
       "      <th>Address</th>\n",
       "      <td>997162</td>\n",
       "      <td>714371</td>\n",
       "      <td>MULTI ADDRESSES</td>\n",
       "      <td>620</td>\n",
       "      <td>NaN</td>\n",
       "      <td>NaN</td>\n",
       "      <td>NaN</td>\n",
       "      <td>NaN</td>\n",
       "      <td>NaN</td>\n",
       "      <td>NaN</td>\n",
       "      <td>NaN</td>\n",
       "    </tr>\n",
       "    <tr>\n",
       "      <th>Assessed Value</th>\n",
       "      <td>997213.0</td>\n",
       "      <td>NaN</td>\n",
       "      <td>NaN</td>\n",
       "      <td>NaN</td>\n",
       "      <td>279143.67</td>\n",
       "      <td>1670609.86</td>\n",
       "      <td>0.0</td>\n",
       "      <td>87600.0</td>\n",
       "      <td>138390.0</td>\n",
       "      <td>225560.0</td>\n",
       "      <td>881510000.0</td>\n",
       "    </tr>\n",
       "    <tr>\n",
       "      <th>Sale Amount</th>\n",
       "      <td>997213.0</td>\n",
       "      <td>NaN</td>\n",
       "      <td>NaN</td>\n",
       "      <td>NaN</td>\n",
       "      <td>391151.18</td>\n",
       "      <td>5347270.21</td>\n",
       "      <td>0.0</td>\n",
       "      <td>140000.0</td>\n",
       "      <td>225000.0</td>\n",
       "      <td>365000.0</td>\n",
       "      <td>5000000000.0</td>\n",
       "    </tr>\n",
       "    <tr>\n",
       "      <th>Sales Ratio</th>\n",
       "      <td>997213.0</td>\n",
       "      <td>NaN</td>\n",
       "      <td>NaN</td>\n",
       "      <td>NaN</td>\n",
       "      <td>10.45</td>\n",
       "      <td>1890.19</td>\n",
       "      <td>0.0</td>\n",
       "      <td>0.49</td>\n",
       "      <td>0.62</td>\n",
       "      <td>0.79</td>\n",
       "      <td>1226420.0</td>\n",
       "    </tr>\n",
       "    <tr>\n",
       "      <th>Property Type</th>\n",
       "      <td>614767</td>\n",
       "      <td>11</td>\n",
       "      <td>Single Family</td>\n",
       "      <td>401612</td>\n",
       "      <td>NaN</td>\n",
       "      <td>NaN</td>\n",
       "      <td>NaN</td>\n",
       "      <td>NaN</td>\n",
       "      <td>NaN</td>\n",
       "      <td>NaN</td>\n",
       "      <td>NaN</td>\n",
       "    </tr>\n",
       "    <tr>\n",
       "      <th>Residential Type</th>\n",
       "      <td>608904</td>\n",
       "      <td>5</td>\n",
       "      <td>Single Family</td>\n",
       "      <td>445016</td>\n",
       "      <td>NaN</td>\n",
       "      <td>NaN</td>\n",
       "      <td>NaN</td>\n",
       "      <td>NaN</td>\n",
       "      <td>NaN</td>\n",
       "      <td>NaN</td>\n",
       "      <td>NaN</td>\n",
       "    </tr>\n",
       "    <tr>\n",
       "      <th>Non Use Code</th>\n",
       "      <td>289681</td>\n",
       "      <td>106</td>\n",
       "      <td>25 - Other</td>\n",
       "      <td>59916</td>\n",
       "      <td>NaN</td>\n",
       "      <td>NaN</td>\n",
       "      <td>NaN</td>\n",
       "      <td>NaN</td>\n",
       "      <td>NaN</td>\n",
       "      <td>NaN</td>\n",
       "      <td>NaN</td>\n",
       "    </tr>\n",
       "    <tr>\n",
       "      <th>Assessor Remarks</th>\n",
       "      <td>149864</td>\n",
       "      <td>66508</td>\n",
       "      <td>ESTATE SALE</td>\n",
       "      <td>5044</td>\n",
       "      <td>NaN</td>\n",
       "      <td>NaN</td>\n",
       "      <td>NaN</td>\n",
       "      <td>NaN</td>\n",
       "      <td>NaN</td>\n",
       "      <td>NaN</td>\n",
       "      <td>NaN</td>\n",
       "    </tr>\n",
       "    <tr>\n",
       "      <th>OPM remarks</th>\n",
       "      <td>9934</td>\n",
       "      <td>4825</td>\n",
       "      <td>GOOD SALE PER MLS</td>\n",
       "      <td>978</td>\n",
       "      <td>NaN</td>\n",
       "      <td>NaN</td>\n",
       "      <td>NaN</td>\n",
       "      <td>NaN</td>\n",
       "      <td>NaN</td>\n",
       "      <td>NaN</td>\n",
       "      <td>NaN</td>\n",
       "    </tr>\n",
       "    <tr>\n",
       "      <th>Location</th>\n",
       "      <td>197697</td>\n",
       "      <td>130529</td>\n",
       "      <td>POINT (-72.36336 41.97461)</td>\n",
       "      <td>181</td>\n",
       "      <td>NaN</td>\n",
       "      <td>NaN</td>\n",
       "      <td>NaN</td>\n",
       "      <td>NaN</td>\n",
       "      <td>NaN</td>\n",
       "      <td>NaN</td>\n",
       "      <td>NaN</td>\n",
       "    </tr>\n",
       "  </tbody>\n",
       "</table>\n",
       "</div>"
      ],
      "text/plain": [
       "                     count  unique                         top    freq  \\\n",
       "List Year         997213.0     NaN                         NaN     NaN   \n",
       "Date Recorded       997211    6387                  07/01/2005     877   \n",
       "Town                997213     170                  Bridgeport   34201   \n",
       "Address             997162  714371             MULTI ADDRESSES     620   \n",
       "Assessed Value    997213.0     NaN                         NaN     NaN   \n",
       "Sale Amount       997213.0     NaN                         NaN     NaN   \n",
       "Sales Ratio       997213.0     NaN                         NaN     NaN   \n",
       "Property Type       614767      11               Single Family  401612   \n",
       "Residential Type    608904       5               Single Family  445016   \n",
       "Non Use Code        289681     106                  25 - Other   59916   \n",
       "Assessor Remarks    149864   66508                 ESTATE SALE    5044   \n",
       "OPM remarks           9934    4825           GOOD SALE PER MLS     978   \n",
       "Location            197697  130529  POINT (-72.36336 41.97461)     181   \n",
       "\n",
       "                       mean         std     min       25%       50%       75%  \\\n",
       "List Year           2010.19        6.24  2001.0    2004.0    2010.0    2016.0   \n",
       "Date Recorded           NaN         NaN     NaN       NaN       NaN       NaN   \n",
       "Town                    NaN         NaN     NaN       NaN       NaN       NaN   \n",
       "Address                 NaN         NaN     NaN       NaN       NaN       NaN   \n",
       "Assessed Value    279143.67  1670609.86     0.0   87600.0  138390.0  225560.0   \n",
       "Sale Amount       391151.18  5347270.21     0.0  140000.0  225000.0  365000.0   \n",
       "Sales Ratio           10.45     1890.19     0.0      0.49      0.62      0.79   \n",
       "Property Type           NaN         NaN     NaN       NaN       NaN       NaN   \n",
       "Residential Type        NaN         NaN     NaN       NaN       NaN       NaN   \n",
       "Non Use Code            NaN         NaN     NaN       NaN       NaN       NaN   \n",
       "Assessor Remarks        NaN         NaN     NaN       NaN       NaN       NaN   \n",
       "OPM remarks             NaN         NaN     NaN       NaN       NaN       NaN   \n",
       "Location                NaN         NaN     NaN       NaN       NaN       NaN   \n",
       "\n",
       "                           max  \n",
       "List Year               2020.0  \n",
       "Date Recorded              NaN  \n",
       "Town                       NaN  \n",
       "Address                    NaN  \n",
       "Assessed Value     881510000.0  \n",
       "Sale Amount       5000000000.0  \n",
       "Sales Ratio          1226420.0  \n",
       "Property Type              NaN  \n",
       "Residential Type           NaN  \n",
       "Non Use Code               NaN  \n",
       "Assessor Remarks           NaN  \n",
       "OPM remarks                NaN  \n",
       "Location                   NaN  "
      ]
     },
     "execution_count": 14,
     "metadata": {},
     "output_type": "execute_result"
    }
   ],
   "source": [
    "round(df.describe(include='all'),2).T"
   ]
  },
  {
   "cell_type": "code",
   "execution_count": 15,
   "metadata": {},
   "outputs": [
    {
     "data": {
      "image/png": "[encoded data removed]",
      "text/plain": [
       "<Figure size 640x480 with 1 Axes>"
      ]
     },
     "metadata": {},
     "output_type": "display_data"
    }
   ],
   "source": [
    "sns.histplot(df['List Year'], kde=True)\n",
    "plt.show()"
   ]
  },
  {
   "cell_type": "code",
   "execution_count": 16,
   "metadata": {},
   "outputs": [
    {
     "data": {
      "text/plain": [
       "2004    8.43\n",
       "2020    6.68\n",
       "2003    6.44\n",
       "2005    6.18\n",
       "2002    5.98\n",
       "2001    5.98\n",
       "2019    5.91\n",
       "2018    5.09\n",
       "2016    4.99\n",
       "2014    4.97\n",
       "2006    4.89\n",
       "2015    4.68\n",
       "2017    4.58\n",
       "2009    4.26\n",
       "2013    4.01\n",
       "2012    3.61\n",
       "2007    3.57\n",
       "2010    3.36\n",
       "2008    3.28\n",
       "2011    3.12\n",
       "Name: List Year, dtype: float64"
      ]
     },
     "execution_count": 16,
     "metadata": {},
     "output_type": "execute_result"
    }
   ],
   "source": [
    "round(df['List Year'].value_counts(normalize=True).sort_values(ascending=False)*100,2)"
   ]
  },
  {
   "cell_type": "code",
   "execution_count": 17,
   "metadata": {},
   "outputs": [
    {
     "data": {
      "text/plain": [
       "07/01/2005    0.09\n",
       "08/01/2005    0.09\n",
       "07/01/2004    0.08\n",
       "06/30/2005    0.08\n",
       "09/30/2005    0.08\n",
       "07/01/2002    0.08\n",
       "11/01/2004    0.08\n",
       "10/01/2004    0.08\n",
       "05/02/2005    0.07\n",
       "08/02/2004    0.07\n",
       "04/01/2005    0.07\n",
       "07/29/2005    0.07\n",
       "09/01/2005    0.07\n",
       "06/01/2005    0.07\n",
       "07/01/2003    0.06\n",
       "05/03/2004    0.06\n",
       "10/01/2001    0.06\n",
       "06/30/2004    0.06\n",
       "06/28/2002    0.06\n",
       "12/01/2004    0.06\n",
       "Name: Date Recorded, dtype: float64"
      ]
     },
     "execution_count": 17,
     "metadata": {},
     "output_type": "execute_result"
    }
   ],
   "source": [
    "round(df['Date Recorded'].value_counts(normalize=True).sort_values(ascending=False)*100,2).head(20)"
   ]
  },
  {
   "cell_type": "code",
   "execution_count": 18,
   "metadata": {},
   "outputs": [
    {
     "data": {
      "text/plain": [
       "Bridgeport       3.43\n",
       "Stamford         3.26\n",
       "Waterbury        2.86\n",
       "Norwalk          2.40\n",
       "New Haven        2.14\n",
       "Danbury          2.04\n",
       "West Hartford    1.99\n",
       "Hartford         1.89\n",
       "Milford          1.78\n",
       "Meriden          1.76\n",
       "Greenwich        1.74\n",
       "Bristol          1.70\n",
       "Stratford        1.67\n",
       "New Britain      1.65\n",
       "Manchester       1.64\n",
       "Hamden           1.62\n",
       "Fairfield        1.59\n",
       "East Hartford    1.38\n",
       "Torrington       1.32\n",
       "Middletown       1.24\n",
       "Name: Town, dtype: float64"
      ]
     },
     "execution_count": 18,
     "metadata": {},
     "output_type": "execute_result"
    }
   ],
   "source": [
    "round(df['Town'].value_counts(normalize=True).sort_values(ascending=False)*100,2).head(20)"
   ]
  },
  {
   "cell_type": "code",
   "execution_count": 19,
   "metadata": {},
   "outputs": [
    {
     "data": {
      "text/plain": [
       "MULTI ADDRESSES          0.06\n",
       "8 SOUTH RD               0.04\n",
       "51 OLD SPRINGFIELD RD    0.02\n",
       "312 N BISHOP AVE         0.01\n",
       "RIGGS ST                 0.01\n",
       "71 AIKEN ST              0.01\n",
       "42 PIERCE RD             0.01\n",
       "166 OLD BROOKFIELD RD    0.01\n",
       "25 GRAND ST              0.01\n",
       "97 RICHARDS AVE          0.01\n",
       "50 AIKEN ST              0.01\n",
       "41 WOLFPIT AVE           0.01\n",
       "RIVER RD                 0.01\n",
       "4 DASKAMS LN             0.01\n",
       "POCONO PT RD             0.01\n",
       "325 LAFAYETTE ST         0.01\n",
       "ELM ST                   0.01\n",
       "100 RICHARDS AVE         0.01\n",
       "MAIN ST                  0.01\n",
       "33 NORTH WATER ST        0.01\n",
       "Name: Address, dtype: float64"
      ]
     },
     "execution_count": 19,
     "metadata": {},
     "output_type": "execute_result"
    }
   ],
   "source": [
    "round(df['Address'].value_counts(normalize=True).sort_values(ascending=False)*100,2).head(20)"
   ]
  },
  {
   "cell_type": "code",
   "execution_count": 20,
   "metadata": {},
   "outputs": [
    {
     "data": {
      "text/plain": [
       "0.0         0.70\n",
       "17500.0     0.06\n",
       "105000.0    0.06\n",
       "35000.0     0.05\n",
       "70000.0     0.05\n",
       "63000.0     0.05\n",
       "10500.0     0.04\n",
       "84000.0     0.04\n",
       "28000.0     0.04\n",
       "12600.0     0.04\n",
       "112000.0    0.04\n",
       "87500.0     0.04\n",
       "126000.0    0.04\n",
       "98000.0     0.04\n",
       "91000.0     0.04\n",
       "56000.0     0.04\n",
       "77000.0     0.04\n",
       "42000.0     0.04\n",
       "140000.0    0.03\n",
       "101500.0    0.03\n",
       "Name: Assessed Value, dtype: float64"
      ]
     },
     "execution_count": 20,
     "metadata": {},
     "output_type": "execute_result"
    }
   ],
   "source": [
    "round(df['Assessed Value'].value_counts(normalize=True).sort_values(ascending=False)*100,2).head(20)"
   ]
  },
  {
   "cell_type": "code",
   "execution_count": 21,
   "metadata": {},
   "outputs": [
    {
     "data": {
      "text/plain": [
       "150000.0    0.94\n",
       "200000.0    0.90\n",
       "250000.0    0.85\n",
       "175000.0    0.76\n",
       "225000.0    0.74\n",
       "180000.0    0.74\n",
       "160000.0    0.72\n",
       "300000.0    0.70\n",
       "165000.0    0.69\n",
       "125000.0    0.67\n",
       "170000.0    0.67\n",
       "100000.0    0.66\n",
       "190000.0    0.66\n",
       "220000.0    0.65\n",
       "210000.0    0.65\n",
       "185000.0    0.63\n",
       "230000.0    0.63\n",
       "140000.0    0.62\n",
       "240000.0    0.61\n",
       "215000.0    0.60\n",
       "Name: Sale Amount, dtype: float64"
      ]
     },
     "execution_count": 21,
     "metadata": {},
     "output_type": "execute_result"
    }
   ],
   "source": [
    "round(df['Sale Amount'].value_counts(normalize=True).sort_values(ascending=False)*100,2).head(20)"
   ]
  },
  {
   "cell_type": "code",
   "execution_count": null,
   "metadata": {},
   "outputs": [],
   "source": [
    "\n",
    "round(df['Sales Ratio'].value_counts(normalize=True).sort_values(ascending=False)*100,2)"
   ]
  },
  {
   "cell_type": "code",
   "execution_count": 23,
   "metadata": {},
   "outputs": [
    {
     "data": {
      "text/plain": [
       "Single Family     65.33\n",
       "Condo             17.15\n",
       "Residential        9.88\n",
       "Two Family         4.30\n",
       "Three Family       2.05\n",
       "Vacant Land        0.51\n",
       "Four Family        0.35\n",
       "Commercial         0.32\n",
       "Apartments         0.08\n",
       "Industrial         0.04\n",
       "Public Utility     0.00\n",
       "Name: Property Type, dtype: float64"
      ]
     },
     "execution_count": 23,
     "metadata": {},
     "output_type": "execute_result"
    }
   ],
   "source": [
    "round(df['Property Type'].value_counts(normalize=True).sort_values(ascending=False)*100,2).head(20)"
   ]
  },
  {
   "cell_type": "code",
   "execution_count": 24,
   "metadata": {},
   "outputs": [
    {
     "data": {
      "text/plain": [
       "Single Family    73.08\n",
       "Condo            19.34\n",
       "Two Family        4.86\n",
       "Three Family      2.31\n",
       "Four Family       0.40\n",
       "Name: Residential Type, dtype: float64"
      ]
     },
     "execution_count": 24,
     "metadata": {},
     "output_type": "execute_result"
    }
   ],
   "source": [
    "round(df['Residential Type'].value_counts(normalize=True).sort_values(ascending=False)*100,2).head(20)"
   ]
  },
  {
   "cell_type": "code",
   "execution_count": 25,
   "metadata": {},
   "outputs": [
    {
     "data": {
      "text/plain": [
       "25 - Other                     20.68\n",
       "14 - Foreclosure               18.10\n",
       "07 - Change in Property        11.82\n",
       "08 - Part Interest              5.35\n",
       "7.0                             4.96\n",
       "01 - Family                     4.52\n",
       "7                               3.25\n",
       "1.0                             2.09\n",
       "10 - A Will                     1.77\n",
       "8.0                             1.76\n",
       "06 - Portion of Property        1.51\n",
       "28 - Use Assessment             1.50\n",
       "1                               1.44\n",
       "18 - In Lieu Of Foreclosure     1.27\n",
       "25.0                            1.23\n",
       "8                               1.20\n",
       "15 - Government Agency          1.16\n",
       "6.0                             1.16\n",
       "03 - Inter Corporation          1.04\n",
       "25                              1.00\n",
       "Name: Non Use Code, dtype: float64"
      ]
     },
     "execution_count": 25,
     "metadata": {},
     "output_type": "execute_result"
    }
   ],
   "source": [
    "round(df['Non Use Code'].value_counts(normalize=True).sort_values(ascending=False)*100,2).head(20)"
   ]
  },
  {
   "cell_type": "code",
   "execution_count": 26,
   "metadata": {},
   "outputs": [
    {
     "data": {
      "text/plain": [
       "ESTATE SALE                    3.37\n",
       "BELOW MARKET                   1.71\n",
       "SHORT SALE                     1.67\n",
       "NEW CONSTRUCTION               1.37\n",
       "FORECLOSURE                    1.23\n",
       "SALE OF FORECLOSED PROPERTY    1.10\n",
       "MOBILE HOME                    1.02\n",
       "SALES RATIO                    0.90\n",
       "BANK SALE                      0.72\n",
       "qualified sale                 0.70\n",
       "OUT OF FORECLOSURE             0.60\n",
       "Foreclosure related sale       0.59\n",
       "PRIVATE SALE                   0.55\n",
       "BELOW MARKET VALUE             0.49\n",
       "ESTATE                         0.48\n",
       "MULTIPLE PARCEL SALE           0.45\n",
       "FAMILY SALE                    0.44\n",
       "estate sale                    0.40\n",
       "SHORT SALE PER MLS             0.38\n",
       "PUD                            0.38\n",
       "Name: Assessor Remarks, dtype: float64"
      ]
     },
     "execution_count": 26,
     "metadata": {},
     "output_type": "execute_result"
    }
   ],
   "source": [
    "round(df['Assessor Remarks'].value_counts(normalize=True).sort_values(ascending=False)*100,2).head(20)"
   ]
  },
  {
   "cell_type": "code",
   "execution_count": 27,
   "metadata": {},
   "outputs": [
    {
     "data": {
      "text/plain": [
       "GOOD SALE PER MLS                    9.84\n",
       "NO MLS                               5.03\n",
       "NEW CONSTRUCTION                     3.47\n",
       "SHORT SALE PER MLS                   3.28\n",
       "TOTAL RENOVATION PER MLS             3.18\n",
       "ESTATE SALE                          2.32\n",
       "TOTAL REMODEL PER MLS                1.98\n",
       "PURCHASE OF A FORECLOSED PROPERTY    1.45\n",
       "BELOW MARKET                         1.25\n",
       "COMPLETELY RENOVATED PER MLS         1.03\n",
       "NOT A VALID SALE PER TOWN SITE       0.99\n",
       "BANK OWNED PER MLS                   0.90\n",
       "FORECLOSURE PER TOWN SITE            0.77\n",
       "MOBILE HOME                          0.75\n",
       "BANK SALE PER MLS                    0.67\n",
       "BANK SALE PER TOWN SITE              0.63\n",
       "RENOVATED PER MLS                    0.62\n",
       "SALE OF A FORECLOSED PROPERTY        0.49\n",
       "RATIO                                0.41\n",
       "RENOVATIONS PER MLS                  0.38\n",
       "Name: OPM remarks, dtype: float64"
      ]
     },
     "execution_count": 27,
     "metadata": {},
     "output_type": "execute_result"
    }
   ],
   "source": [
    "round(df['OPM remarks'].value_counts(normalize=True).sort_values(ascending=False)*100,2).head(20)"
   ]
  },
  {
   "cell_type": "code",
   "execution_count": 28,
   "metadata": {},
   "outputs": [
    {
     "data": {
      "text/plain": [
       "POINT (-72.36336 41.97461)    0.09\n",
       "POINT (-73.41854 41.13449)    0.07\n",
       "POINT (-73.45225 41.096)      0.04\n",
       "POINT (-73.06359 41.52255)    0.04\n",
       "POINT (-72.96095 41.54989)    0.04\n",
       "POINT (-72.48036 41.86001)    0.04\n",
       "POINT (-73.5489 41.05871)     0.03\n",
       "POINT (-72.63429 41.74447)    0.03\n",
       "POINT (-72.95827 41.86658)    0.03\n",
       "POINT (-72.0655 41.55307)     0.03\n",
       "POINT (-73.45236 41.09675)    0.03\n",
       "POINT (-72.89863 41.38489)    0.03\n",
       "POINT (-72.77113 41.32067)    0.03\n",
       "POINT (-73.53139 41.06391)    0.03\n",
       "POINT (-73.56373 41.03532)    0.02\n",
       "POINT (-73.10017 41.8392)     0.02\n",
       "POINT (-72.5033 41.82478)     0.02\n",
       "POINT (-73.56966 41.04706)    0.02\n",
       "POINT (-72.67743 41.27808)    0.02\n",
       "POINT (-73.10125 41.255)      0.02\n",
       "Name: Location, dtype: float64"
      ]
     },
     "execution_count": 28,
     "metadata": {},
     "output_type": "execute_result"
    }
   ],
   "source": [
    "round(df['Location'].value_counts(normalize=True).sort_values(ascending=False)*100,2).head(20)"
   ]
  },
  {
   "cell_type": "code",
   "execution_count": 29,
   "metadata": {},
   "outputs": [
    {
     "data": {
      "text/plain": [
       "Index(['List Year', 'Date Recorded', 'Town', 'Address', 'Assessed Value',\n",
       "       'Sale Amount', 'Sales Ratio', 'Property Type', 'Residential Type',\n",
       "       'Non Use Code', 'Assessor Remarks', 'OPM remarks', 'Location'],\n",
       "      dtype='object')"
      ]
     },
     "execution_count": 29,
     "metadata": {},
     "output_type": "execute_result"
    }
   ],
   "source": [
    "df.columns"
   ]
  }
 ],
 "metadata": {
  "kernelspec": {
   "display_name": "Python 3 (ipykernel)",
   "language": "python",
   "name": "python3"
  },
  "language_info": {
   "codemirror_mode": {
    "name": "ipython",
    "version": 3
   },
   "file_extension": ".py",
   "mimetype": "text/x-python",
   "name": "python",
   "nbconvert_exporter": "python",
   "pygments_lexer": "ipython3",
   "version": "3.10.9"
  },
  "toc": {
   "base_numbering": 1,
   "nav_menu": {},
   "number_sections": true,
   "sideBar": true,
   "skip_h1_title": false,
   "title_cell": "Table of Contents",
   "title_sidebar": "Contents",
   "toc_cell": false,
   "toc_position": {},
   "toc_section_display": true,
   "toc_window_display": false
  }
 },
 "nbformat": 4,
 "nbformat_minor": 2
}
