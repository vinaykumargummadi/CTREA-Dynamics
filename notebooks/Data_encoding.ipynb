{
 "cells": [
  {
   "cell_type": "code",
   "execution_count": 1,
   "metadata": {},
   "outputs": [],
   "source": [
    "import pandas as pd\n",
    "import numpy as np\n",
    "import matplotlib.pyplot as plt\n",
    "import seaborn as sns"
   ]
  },
  {
   "cell_type": "code",
   "execution_count": 2,
   "metadata": {},
   "outputs": [
    {
     "data": {
      "text/html": [
       "<div>\n",
       "<style scoped>\n",
       "    .dataframe tbody tr th:only-of-type {\n",
       "        vertical-align: middle;\n",
       "    }\n",
       "\n",
       "    .dataframe tbody tr th {\n",
       "        vertical-align: top;\n",
       "    }\n",
       "\n",
       "    .dataframe thead th {\n",
       "        text-align: right;\n",
       "    }\n",
       "</style>\n",
       "<table border=\"1\" class=\"dataframe\">\n",
       "  <thead>\n",
       "    <tr style=\"text-align: right;\">\n",
       "      <th></th>\n",
       "      <th>Unnamed: 0</th>\n",
       "      <th>List Year</th>\n",
       "      <th>Date Recorded</th>\n",
       "      <th>Town</th>\n",
       "      <th>Assessed Value</th>\n",
       "      <th>Sale Amount</th>\n",
       "      <th>Sales Ratio</th>\n",
       "      <th>Property Type</th>\n",
       "      <th>Residential Type</th>\n",
       "      <th>Reason for sale</th>\n",
       "      <th>Street Number</th>\n",
       "      <th>Minimum Estimated Occupancy</th>\n",
       "    </tr>\n",
       "  </thead>\n",
       "  <tbody>\n",
       "    <tr>\n",
       "      <th>0</th>\n",
       "      <td>0</td>\n",
       "      <td>2020</td>\n",
       "      <td>2021-09-13</td>\n",
       "      <td>Ansonia</td>\n",
       "      <td>150500.0</td>\n",
       "      <td>325000.0</td>\n",
       "      <td>0.4630</td>\n",
       "      <td>Commercial</td>\n",
       "      <td>Others</td>\n",
       "      <td>Not defined</td>\n",
       "      <td>230</td>\n",
       "      <td>16</td>\n",
       "    </tr>\n",
       "    <tr>\n",
       "      <th>1</th>\n",
       "      <td>1</td>\n",
       "      <td>2020</td>\n",
       "      <td>2020-10-02</td>\n",
       "      <td>Ashford</td>\n",
       "      <td>253000.0</td>\n",
       "      <td>430000.0</td>\n",
       "      <td>0.5883</td>\n",
       "      <td>Residential</td>\n",
       "      <td>Single Family</td>\n",
       "      <td>Not defined</td>\n",
       "      <td>390</td>\n",
       "      <td>5</td>\n",
       "    </tr>\n",
       "    <tr>\n",
       "      <th>2</th>\n",
       "      <td>2</td>\n",
       "      <td>2020</td>\n",
       "      <td>2021-03-09</td>\n",
       "      <td>Avon</td>\n",
       "      <td>130400.0</td>\n",
       "      <td>179900.0</td>\n",
       "      <td>0.7248</td>\n",
       "      <td>Residential</td>\n",
       "      <td>Condo</td>\n",
       "      <td>Not defined</td>\n",
       "      <td>5</td>\n",
       "      <td>1</td>\n",
       "    </tr>\n",
       "    <tr>\n",
       "      <th>3</th>\n",
       "      <td>3</td>\n",
       "      <td>2020</td>\n",
       "      <td>2021-04-13</td>\n",
       "      <td>Avon</td>\n",
       "      <td>619290.0</td>\n",
       "      <td>890000.0</td>\n",
       "      <td>0.6958</td>\n",
       "      <td>Residential</td>\n",
       "      <td>Single Family</td>\n",
       "      <td>Not defined</td>\n",
       "      <td>111</td>\n",
       "      <td>5</td>\n",
       "    </tr>\n",
       "    <tr>\n",
       "      <th>4</th>\n",
       "      <td>4</td>\n",
       "      <td>2020</td>\n",
       "      <td>2021-07-02</td>\n",
       "      <td>Avon</td>\n",
       "      <td>862330.0</td>\n",
       "      <td>1447500.0</td>\n",
       "      <td>0.5957</td>\n",
       "      <td>Residential</td>\n",
       "      <td>Single Family</td>\n",
       "      <td>Not defined</td>\n",
       "      <td>70</td>\n",
       "      <td>5</td>\n",
       "    </tr>\n",
       "  </tbody>\n",
       "</table>\n",
       "</div>"
      ],
      "text/plain": [
       "   Unnamed: 0  List Year Date Recorded     Town  Assessed Value  Sale Amount  \\\n",
       "0           0       2020    2021-09-13  Ansonia        150500.0     325000.0   \n",
       "1           1       2020    2020-10-02  Ashford        253000.0     430000.0   \n",
       "2           2       2020    2021-03-09     Avon        130400.0     179900.0   \n",
       "3           3       2020    2021-04-13     Avon        619290.0     890000.0   \n",
       "4           4       2020    2021-07-02     Avon        862330.0    1447500.0   \n",
       "\n",
       "   Sales Ratio Property Type Residential Type Reason for sale  Street Number  \\\n",
       "0       0.4630    Commercial           Others     Not defined            230   \n",
       "1       0.5883   Residential    Single Family     Not defined            390   \n",
       "2       0.7248   Residential            Condo     Not defined              5   \n",
       "3       0.6958   Residential    Single Family     Not defined            111   \n",
       "4       0.5957   Residential    Single Family     Not defined             70   \n",
       "\n",
       "   Minimum Estimated Occupancy  \n",
       "0                           16  \n",
       "1                            5  \n",
       "2                            1  \n",
       "3                            5  \n",
       "4                            5  "
      ]
     },
     "execution_count": 2,
     "metadata": {},
     "output_type": "execute_result"
    }
   ],
   "source": [
    "data = pd.read_csv(r'C:\\Users\\dhami\\Downloads\\GitHub_Capstone_Project\\CTREA-Dynamics\\data\\model_building_dataset.csv')\n",
    "data.head()"
   ]
  },
  {
   "cell_type": "code",
   "execution_count": 3,
   "metadata": {},
   "outputs": [
    {
     "data": {
      "text/plain": [
       "(884233, 12)"
      ]
     },
     "execution_count": 3,
     "metadata": {},
     "output_type": "execute_result"
    }
   ],
   "source": [
    "data.shape"
   ]
  },
  {
   "cell_type": "code",
   "execution_count": 4,
   "metadata": {},
   "outputs": [
    {
     "name": "stdout",
     "output_type": "stream",
     "text": [
      "<class 'pandas.core.frame.DataFrame'>\n",
      "RangeIndex: 884233 entries, 0 to 884232\n",
      "Data columns (total 12 columns):\n",
      " #   Column                       Non-Null Count   Dtype  \n",
      "---  ------                       --------------   -----  \n",
      " 0   Unnamed: 0                   884233 non-null  int64  \n",
      " 1   List Year                    884233 non-null  int64  \n",
      " 2   Date Recorded                884233 non-null  object \n",
      " 3   Town                         884233 non-null  object \n",
      " 4   Assessed Value               884233 non-null  float64\n",
      " 5   Sale Amount                  884233 non-null  float64\n",
      " 6   Sales Ratio                  884233 non-null  float64\n",
      " 7   Property Type                884233 non-null  object \n",
      " 8   Residential Type             884233 non-null  object \n",
      " 9   Reason for sale              884233 non-null  object \n",
      " 10  Street Number                884233 non-null  int64  \n",
      " 11  Minimum Estimated Occupancy  884233 non-null  int64  \n",
      "dtypes: float64(3), int64(4), object(5)\n",
      "memory usage: 81.0+ MB\n"
     ]
    }
   ],
   "source": [
    "data.info()"
   ]
  },
  {
   "cell_type": "code",
   "execution_count": null,
   "metadata": {},
   "outputs": [],
   "source": []
  }
 ],
 "metadata": {
  "kernelspec": {
   "display_name": "Python 3",
   "language": "python",
   "name": "python3"
  },
  "language_info": {
   "codemirror_mode": {
    "name": "ipython",
    "version": 3
   },
   "file_extension": ".py",
   "mimetype": "text/x-python",
   "name": "python",
   "nbconvert_exporter": "python",
   "pygments_lexer": "ipython3",
   "version": "3.11.4"
  }
 },
 "nbformat": 4,
 "nbformat_minor": 2
}
