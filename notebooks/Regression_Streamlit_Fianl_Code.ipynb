{
 "cells": [
  {
   "cell_type": "code",
   "execution_count": 1,
   "id": "a3d14870",
   "metadata": {},
   "outputs": [
    {
     "name": "stdout",
     "output_type": "stream",
     "text": [
      "Overwriting regression_model.py\n"
     ]
    }
   ],
   "source": [
    "%%writefile regression_model.py\n",
    "import streamlit as st\n",
    "import pandas as pd\n",
    "import numpy as np\n",
    "import pickle\n",
    "\n",
    "st.header('Machine Learning Regression Model')\n",
    "list_year = st.selectbox('Property Listing Year',\n",
    "                         [2000, 2001, 2002, 2003, 2004, 2005, 2006, 2007, 2008, 2009, 2010, 2011, 2012, 2013, 2014,\n",
    "                          2015, 2016, 2017, 2018, 2019, 2020, 2021])\n",
    "sale_recorded_year = st.selectbox('Property Sale Recorded Year',\n",
    "                                  [1999, 2000, 2001, 2002, 2003, 2004, 2005, 2006, 2007, 2008, 2009, 2010, 2011, 2012,\n",
    "                                   2013, 2014, 2015, 2016, 2017, 2018, 2019, 2020, 2021])\n",
    "assessed_value = st.number_input('Property Valuation in USD', min_value=0.0, value=10.0,\n",
    "                                 placeholder=\"Type a number...\")\n",
    "sales_ratio = st.number_input('Sales Ratio', min_value=0.00, max_value=5.00, placeholder=\"Type a number...\")\n",
    "property_type = st.selectbox('Property Type', ['Commercial', 'Residential', 'Vacant Land', 'Miscellaneous',\n",
    "                                               'Apartments', 'Industrial', 'Public Utility', 'Condo',\n",
    "                                               'Two Family', 'Single Family', 'Four Family', 'Three Family'])\n",
    "street_number = st.number_input('Street Number ', min_value=0, value=0, placeholder=\"Type a number...\")\n",
    "Minimum_Estimated_Occupancy = st.number_input('Minimum Estimated Occupancy', min_value=1, max_value=16,\n",
    "                                              placeholder=\"Type a number...\")\n",
    "county = st.selectbox('County', ['New Haven County', 'Windham County', 'Hartford County',\n",
    "                                 'Fairfield County', 'Litchfield County', 'Middlesex County',\n",
    "                                 'New London County', 'Tolland County', 'Other'])\n",
    "reason_sale = st.selectbox('Reason for sale', ['Not defined', ' Foreclosure', ' Other', ' Family',\n",
    "                                               ' Change in Property', ' Plottage', ' Use Assessment', ' Tax',\n",
    "                                               ' In Lieu Of Foreclosure', ' Two Towns', ' A Will',\n",
    "                                               ' Portion of Property', ' Part Interest', ' Government Agency',\n",
    "                                               ' Charitable Group', ' Court Order', ' Rehabilitation Deferred',\n",
    "                                               ' Inter Corporation', ' Money and Personal Property',\n",
    "                                               ' Non Buildable Lot', ' Correcting Deed', ' Deed Date',\n",
    "                                               ' CRUMBLING FOUNDATION ASSESSMENT REDUCTION', ' Bankrupcy',\n",
    "                                               ' Auction', ' Love and Affection', ' Personal Property Exchange',\n",
    "                                               ' Zoning', ' Easement', ' Cemetery', ' No Consideration'])\n",
    "\n",
    "button = st.button('Predict Sale Amount')\n",
    "\n",
    "data = {'List Year': [list_year],\n",
    "        'year': [sale_recorded_year],\n",
    "        'Assessed Value': [assessed_value],\n",
    "        'Sales Ratio': [sales_ratio],\n",
    "        'Property Type': [property_type],\n",
    "        'Street Number': [street_number],\n",
    "        'Minimum Estimated Occupancy': [Minimum_Estimated_Occupancy],\n",
    "        'County': [county],\n",
    "        'Reason Category': [reason_sale]}\n",
    "\n",
    "st.markdown('User Inputs')\n",
    "input_data = pd.DataFrame(data)\n",
    "st.dataframe(input_data.T)\n",
    "\n",
    "if button:\n",
    "    # Define the drop_columns function\n",
    "    def drop_columns(input_data):\n",
    "        return input_data.drop(columns=columns_to_drop)\n",
    "\n",
    "    # applying log transformation\n",
    "    def apply_log_transformation(input_data):\n",
    "        input_data['Assessed Value'] = np.log1p(input_data['Assessed Value'])\n",
    "        return input_data\n",
    "\n",
    "    columns_to_drop = ['Sales Ratio']\n",
    "    categorical_features = ['Property Type', 'County', 'Reason Category']\n",
    "\n",
    "    # deserialization\n",
    "    reloaded_pickle = pickle.load(open(\"C:\\\\Users\\\\dhami\\\\Downloads\\\\Cap_Data\\\\Real_notebooks\\\\pipeline_model.pkl\", 'rb'))\n",
    "    # Use the pipeline for prediction\n",
    "    prediction = reloaded_pickle.predict(input_data)\n",
    "    prediction = float(prediction)\n",
    "    # inverse of prediction for actual value\n",
    "    predict_value = np.expm1(prediction)\n",
    "    st.write('Predicted Sale Amount:', predict_value)\n"
   ]
  },
  {
   "cell_type": "code",
   "execution_count": null,
   "id": "0e1e59a2",
   "metadata": {},
   "outputs": [],
   "source": [
    "! streamlit run regression_model.py "
   ]
  },
  {
   "cell_type": "code",
   "execution_count": null,
   "id": "40781270",
   "metadata": {},
   "outputs": [],
   "source": []
  }
 ],
 "metadata": {
  "kernelspec": {
   "display_name": "Python 3 (ipykernel)",
   "language": "python",
   "name": "python3"
  },
  "language_info": {
   "codemirror_mode": {
    "name": "ipython",
    "version": 3
   },
   "file_extension": ".py",
   "mimetype": "text/x-python",
   "name": "python",
   "nbconvert_exporter": "python",
   "pygments_lexer": "ipython3",
   "version": "3.10.9"
  },
  "toc": {
   "base_numbering": 1,
   "nav_menu": {},
   "number_sections": true,
   "sideBar": true,
   "skip_h1_title": false,
   "title_cell": "Table of Contents",
   "title_sidebar": "Contents",
   "toc_cell": false,
   "toc_position": {},
   "toc_section_display": true,
   "toc_window_display": false
  }
 },
 "nbformat": 4,
 "nbformat_minor": 5
}
